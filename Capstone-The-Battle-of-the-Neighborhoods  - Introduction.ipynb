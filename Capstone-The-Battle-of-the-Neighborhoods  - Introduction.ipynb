{
 "cells": [
  {
   "cell_type": "markdown",
   "metadata": {},
   "source": [
    "# INTRODUCTION"
   ]
  },
  {
   "cell_type": "markdown",
   "metadata": {},
   "source": [
    "## Background"
   ]
  },
  {
   "cell_type": "markdown",
   "metadata": {},
   "source": [
    "> **Coimbatore** is fast growing city and among the top ten districts in TamilNadu, India. It has a population of around 1.6 million people and the city proves to be a great place for living and also for starting new business. Many IT companies have opened their branch in Coimbatore and because of the that more people are moving with their families to Coimbatore which also led to many venues have started showing up in and around Coimbatore."
   ]
  },
  {
   "cell_type": "markdown",
   "metadata": {},
   "source": [
    "## Business Problem Description"
   ]
  },
  {
   "cell_type": "markdown",
   "metadata": {},
   "source": [
    "> Because of more people moving into Coimbatore, the rent rates become very high at some important areas in the city. People starting business considers only those places where population is high or they would start business near city centers. Day by day, as the traffic congestion becoming worse, people from different parts hesitate to travel to places with more venues. So only option for new people is to rent house of high cost in areas with more venues. Business people also does not have any data or report showing them the new areas to explore for starting new business.\n",
    " "
   ]
  },
  {
   "cell_type": "markdown",
   "metadata": {},
   "source": [
    "## Solution"
   ]
  },
  {
   "cell_type": "markdown",
   "metadata": {},
   "source": [
    "> This project intends to find out the rent rates in important areas in Coimbatore and the availability of number of venues in those areas."
   ]
  },
  {
   "cell_type": "markdown",
   "metadata": {},
   "source": [
    "## Target Audience"
   ]
  },
  {
   "cell_type": "markdown",
   "metadata": {},
   "source": [
    "> This projects is intended for two audience. \n",
    "\n",
    "> **One** is the business poeple who owns the venues. The report will help them to explore new areas. \n",
    "E.G. If a person owns a venue in Gandhipuram which is the city center and people in and around Gandhipuram hesitates to go to Gandhipuram everytime due to heavy traffic, then it ultimately affects his business. What if he knows the place where he should consider opening another shop where new people move largely.\n",
    "\n",
    "> **Two** is the common people who is moving to Coimbatore with their families.\n",
    "\n"
   ]
  },
  {
   "cell_type": "code",
   "execution_count": null,
   "metadata": {},
   "outputs": [],
   "source": []
  }
 ],
 "metadata": {
  "kernelspec": {
   "display_name": "Python",
   "language": "python",
   "name": "conda-env-python-py"
  },
  "language_info": {
   "codemirror_mode": {
    "name": "ipython",
    "version": 3
   },
   "file_extension": ".py",
   "mimetype": "text/x-python",
   "name": "python",
   "nbconvert_exporter": "python",
   "pygments_lexer": "ipython3",
   "version": "3.6.7"
  }
 },
 "nbformat": 4,
 "nbformat_minor": 4
}
