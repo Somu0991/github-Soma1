{
 "cells": [
  {
   "cell_type": "markdown",
   "metadata": {},
   "source": [
    "# DATA DESCRIPTION"
   ]
  },
  {
   "cell_type": "markdown",
   "metadata": {},
   "source": [
    "## To get the desired result, I need the following Data - "
   ]
  },
  {
   "cell_type": "markdown",
   "metadata": {},
   "source": [
    "> *Our goal of this project to is find two aspects. One is rent rates in important areas of Coimbatore for them to identify areas with lower rent rates and more venues. Second, for the business people to explore areas where venues are less and where more people will move based on rent rates, so that, they could think of business expansion.*\n",
    "\n",
    ">  - We need data of rent rates in important areas of Coimbatore. I did a thorough search of such data and found out a structured data from Makkan website. The data contained four **feature sets**.  - **'Neighborhood'**, **'1 BHK'**,**'2BHK'** & **'3BHK'**. However, I thougt it would be wise to find the **mean** of all the **feature Sets** so as to let the people know the average rents for all kinds of house in an area. \n",
    "\n",
    "> - Next, we need number of **venues** in those areas which I will pass a query to **Four Square** website to retrieve the data. **Example**, I want to move to area with low rent rates and availability of more venues, especially **gym**. In that case, retrieving venues would be appropriate bacause venues will be clustered and named as per its characteristics.\n",
    "\n",
    "> - After retrieving the above data, I have planned to create a Chloropleth map which will show the areas & their rent rates and number of venues and type of venues in those areas.\n",
    "> - To create the  Chloropleth map to show the different rent rates, I need the Coimbatore geographical border data. But, I could not find data for the latitudes and longitudes. However, I found one file containing the geo data based on ward numbers and fortunately, I was able to find the ward numbers of the important areas of Coimbatore.\n",
    "> - Next, as I have planned to cluster venues retrieved frmo Foursqaure, I need to get the latitude and longitude data of each location to pass query and get venues data. For getting the latitude and longitude values of importatnt areas, I used Python geocoder package.\n",
    "\n"
   ]
  },
  {
   "cell_type": "code",
   "execution_count": null,
   "metadata": {},
   "outputs": [],
   "source": []
  }
 ],
 "metadata": {
  "kernelspec": {
   "display_name": "Python",
   "language": "python",
   "name": "conda-env-python-py"
  },
  "language_info": {
   "codemirror_mode": {
    "name": "ipython",
    "version": 3
   },
   "file_extension": ".py",
   "mimetype": "text/x-python",
   "name": "python",
   "nbconvert_exporter": "python",
   "pygments_lexer": "ipython3",
   "version": "3.6.7"
  }
 },
 "nbformat": 4,
 "nbformat_minor": 4
}
